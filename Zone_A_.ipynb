{
  "cells": [
    {
      "cell_type": "markdown",
      "metadata": {
        "id": "view-in-github",
        "colab_type": "text"
      },
      "source": [
        "<a href=\"https://colab.research.google.com/github/omarabedelkader/Lattice/blob/main/Zone_A_.ipynb\" target=\"_parent\"><img src=\"https://colab.research.google.com/assets/colab-badge.svg\" alt=\"Open In Colab\"/></a>"
      ]
    },
    {
      "cell_type": "markdown",
      "source": [
        "# -*- coding: utf-8 -*-\n",
        "\"\"\"\n",
        "@author: Omar Abedelkader\n",
        "\n",
        "# Private Repository\n",
        "\n",
        "# **PRIVATE AND CONFIDENTIAL LICENSE**\n",
        "\n",
        "**Warning:** This repository is strictly private and confidential. Unauthorized access, use, or distribution of the code, its contents, or any results derived from it is illegal and will be subject to legal action.\n",
        "\n",
        "1. **Private and Confidential**: This software is provided under the strictest confidence. Any access, use, modification, reproduction, or distribution of this software, its source code, or any related materials for any purpose is strictly prohibited and illegal.\n",
        "\n",
        "2. **Unauthorized Use**: Unauthorized use or access to this software constitutes a breach of confidentiality and may result in legal action.\n",
        "\n",
        "3. **No Warranty**: This software is provided \"as is,\" without any warranty or guarantee of any kind. The owner of this software makes no representations or warranties regarding its functionality, accuracy, or fitness for a particular purpose.\n",
        "\n",
        "4. **Liability**: In no event shall the owner of this software be liable for any damages or legal consequences arising out of the use, modification, or distribution of this software, even if advised of the possibility of such damages.\n",
        "\n",
        "5. **Enforcement**: The owner of this software reserves the right to take legal action against any party found in violation of this license.\n",
        "\n",
        "By accessing, using, or copying this software, you agree to be bound by the terms of this license. If you do not agree to the terms of this license, you must not access, use, or copy the software.\n",
        "\n",
        "\"\"\""
      ],
      "metadata": {
        "id": "ppXTGvI2YIAM"
      },
      "id": "ppXTGvI2YIAM"
    },
    {
      "cell_type": "code",
      "source": [
        "from google.colab import drive\n",
        "drive.mount('/content/drive')"
      ],
      "metadata": {
        "colab": {
          "base_uri": "https://localhost:8080/"
        },
        "id": "uueFmOzxWCUj",
        "outputId": "07e57336-12dd-4a42-9274-2ea35583efea"
      },
      "id": "uueFmOzxWCUj",
      "execution_count": null,
      "outputs": [
        {
          "output_type": "stream",
          "name": "stdout",
          "text": [
            "Mounted at /content/drive\n"
          ]
        }
      ]
    },
    {
      "cell_type": "code",
      "execution_count": null,
      "id": "c8371483",
      "metadata": {
        "colab": {
          "base_uri": "https://localhost:8080/",
          "height": 480
        },
        "id": "c8371483",
        "outputId": "3d999997-32d2-4257-f322-22feb962c7db"
      },
      "outputs": [
        {
          "output_type": "stream",
          "name": "stderr",
          "text": [
            "<ipython-input-3-adb0a8bcecdc>:7: DtypeWarning: Columns (1,2,3,4,11,12,13,15,18,21,24,39,40,48,49,54,55,56,70,71,77,80,83,84,89,91,92,93,95) have mixed types. Specify dtype option on import or set low_memory=False.\n",
            "  datazoneA = pd.read_csv(csv_file_path, delimiter=\";\")\n"
          ]
        },
        {
          "output_type": "execute_result",
          "data": {
            "text/plain": [
              "         REGION NUMMR ACHLR  AEMM AEMMR  AGED  AGER20  AGEREV  AGEREVQ  ANAI  \\\n",
              "0            11     1     6  2016     9    30      29      29       25  1988   \n",
              "1            11     1     6  2016     9    21      24      20       20  1997   \n",
              "2            11     2     3  2013     9    41      54      40       40  1973   \n",
              "3            11     2     3  2013     9    30      29      29       25  1984   \n",
              "4            11     2     3  2013     9     9      10       8        5  2005   \n",
              "...         ...   ...   ...   ...   ...   ...     ...     ...      ...   ...   \n",
              "4315652      11     Z     Z  ZZZZ     Z    24      24      23       20  1994   \n",
              "4315653      11     Z     Z  ZZZZ     Z    12      14      12       10  2004   \n",
              "4315654      11     Z     Z  ZZZZ     Z    16      17      16       15  2000   \n",
              "4315655      11     Z     Z  ZZZZ     Z    35      39      34       30  1981   \n",
              "4315656      11     Z     Z  ZZZZ     Z    39      39      38       35  1977   \n",
              "\n",
              "         ... TP TRANS TYPC TYPFC TYPL TYPMD TYPMR UR VOIT  WC  \n",
              "0        ...  Z     Z    3     Z    2    30    20  1    0   Z  \n",
              "1        ...  Z     Z    3     Z    2    30    20  1    0   Z  \n",
              "2        ...  1     4    1     2    1   402    42  1    2   Z  \n",
              "3        ...  Z     Z    1     2    1   402    42  1    2   Z  \n",
              "4        ...  Z     Z    1     2    1   402    42  1    2   Z  \n",
              "...      ... ..   ...  ...   ...  ...   ...   ... ..  ...  ..  \n",
              "4315652  ...  1     4    Z     Z    Z   ZZZ    ZZ  1    Z   X  \n",
              "4315653  ...  Z     Z    Z     Z    Z   ZZZ    ZZ  1    Z   X  \n",
              "4315654  ...  Z     Z    Z     Z    Z   ZZZ    ZZ  1    Z   X  \n",
              "4315655  ...  Z     Z    Z     Z    Z   ZZZ    ZZ  1    Z   X  \n",
              "4315656  ...  2     5    Z     Z    Z   ZZZ    ZZ  1    Z   X  \n",
              "\n",
              "[4315657 rows x 97 columns]"
            ],
            "text/html": [
              "\n",
              "  <div id=\"df-afaabe71-ba81-4c9a-8548-b1cf32b8102f\" class=\"colab-df-container\">\n",
              "    <div>\n",
              "<style scoped>\n",
              "    .dataframe tbody tr th:only-of-type {\n",
              "        vertical-align: middle;\n",
              "    }\n",
              "\n",
              "    .dataframe tbody tr th {\n",
              "        vertical-align: top;\n",
              "    }\n",
              "\n",
              "    .dataframe thead th {\n",
              "        text-align: right;\n",
              "    }\n",
              "</style>\n",
              "<table border=\"1\" class=\"dataframe\">\n",
              "  <thead>\n",
              "    <tr style=\"text-align: right;\">\n",
              "      <th></th>\n",
              "      <th>REGION</th>\n",
              "      <th>NUMMR</th>\n",
              "      <th>ACHLR</th>\n",
              "      <th>AEMM</th>\n",
              "      <th>AEMMR</th>\n",
              "      <th>AGED</th>\n",
              "      <th>AGER20</th>\n",
              "      <th>AGEREV</th>\n",
              "      <th>AGEREVQ</th>\n",
              "      <th>ANAI</th>\n",
              "      <th>...</th>\n",
              "      <th>TP</th>\n",
              "      <th>TRANS</th>\n",
              "      <th>TYPC</th>\n",
              "      <th>TYPFC</th>\n",
              "      <th>TYPL</th>\n",
              "      <th>TYPMD</th>\n",
              "      <th>TYPMR</th>\n",
              "      <th>UR</th>\n",
              "      <th>VOIT</th>\n",
              "      <th>WC</th>\n",
              "    </tr>\n",
              "  </thead>\n",
              "  <tbody>\n",
              "    <tr>\n",
              "      <th>0</th>\n",
              "      <td>11</td>\n",
              "      <td>1</td>\n",
              "      <td>6</td>\n",
              "      <td>2016</td>\n",
              "      <td>9</td>\n",
              "      <td>30</td>\n",
              "      <td>29</td>\n",
              "      <td>29</td>\n",
              "      <td>25</td>\n",
              "      <td>1988</td>\n",
              "      <td>...</td>\n",
              "      <td>Z</td>\n",
              "      <td>Z</td>\n",
              "      <td>3</td>\n",
              "      <td>Z</td>\n",
              "      <td>2</td>\n",
              "      <td>30</td>\n",
              "      <td>20</td>\n",
              "      <td>1</td>\n",
              "      <td>0</td>\n",
              "      <td>Z</td>\n",
              "    </tr>\n",
              "    <tr>\n",
              "      <th>1</th>\n",
              "      <td>11</td>\n",
              "      <td>1</td>\n",
              "      <td>6</td>\n",
              "      <td>2016</td>\n",
              "      <td>9</td>\n",
              "      <td>21</td>\n",
              "      <td>24</td>\n",
              "      <td>20</td>\n",
              "      <td>20</td>\n",
              "      <td>1997</td>\n",
              "      <td>...</td>\n",
              "      <td>Z</td>\n",
              "      <td>Z</td>\n",
              "      <td>3</td>\n",
              "      <td>Z</td>\n",
              "      <td>2</td>\n",
              "      <td>30</td>\n",
              "      <td>20</td>\n",
              "      <td>1</td>\n",
              "      <td>0</td>\n",
              "      <td>Z</td>\n",
              "    </tr>\n",
              "    <tr>\n",
              "      <th>2</th>\n",
              "      <td>11</td>\n",
              "      <td>2</td>\n",
              "      <td>3</td>\n",
              "      <td>2013</td>\n",
              "      <td>9</td>\n",
              "      <td>41</td>\n",
              "      <td>54</td>\n",
              "      <td>40</td>\n",
              "      <td>40</td>\n",
              "      <td>1973</td>\n",
              "      <td>...</td>\n",
              "      <td>1</td>\n",
              "      <td>4</td>\n",
              "      <td>1</td>\n",
              "      <td>2</td>\n",
              "      <td>1</td>\n",
              "      <td>402</td>\n",
              "      <td>42</td>\n",
              "      <td>1</td>\n",
              "      <td>2</td>\n",
              "      <td>Z</td>\n",
              "    </tr>\n",
              "    <tr>\n",
              "      <th>3</th>\n",
              "      <td>11</td>\n",
              "      <td>2</td>\n",
              "      <td>3</td>\n",
              "      <td>2013</td>\n",
              "      <td>9</td>\n",
              "      <td>30</td>\n",
              "      <td>29</td>\n",
              "      <td>29</td>\n",
              "      <td>25</td>\n",
              "      <td>1984</td>\n",
              "      <td>...</td>\n",
              "      <td>Z</td>\n",
              "      <td>Z</td>\n",
              "      <td>1</td>\n",
              "      <td>2</td>\n",
              "      <td>1</td>\n",
              "      <td>402</td>\n",
              "      <td>42</td>\n",
              "      <td>1</td>\n",
              "      <td>2</td>\n",
              "      <td>Z</td>\n",
              "    </tr>\n",
              "    <tr>\n",
              "      <th>4</th>\n",
              "      <td>11</td>\n",
              "      <td>2</td>\n",
              "      <td>3</td>\n",
              "      <td>2013</td>\n",
              "      <td>9</td>\n",
              "      <td>9</td>\n",
              "      <td>10</td>\n",
              "      <td>8</td>\n",
              "      <td>5</td>\n",
              "      <td>2005</td>\n",
              "      <td>...</td>\n",
              "      <td>Z</td>\n",
              "      <td>Z</td>\n",
              "      <td>1</td>\n",
              "      <td>2</td>\n",
              "      <td>1</td>\n",
              "      <td>402</td>\n",
              "      <td>42</td>\n",
              "      <td>1</td>\n",
              "      <td>2</td>\n",
              "      <td>Z</td>\n",
              "    </tr>\n",
              "    <tr>\n",
              "      <th>...</th>\n",
              "      <td>...</td>\n",
              "      <td>...</td>\n",
              "      <td>...</td>\n",
              "      <td>...</td>\n",
              "      <td>...</td>\n",
              "      <td>...</td>\n",
              "      <td>...</td>\n",
              "      <td>...</td>\n",
              "      <td>...</td>\n",
              "      <td>...</td>\n",
              "      <td>...</td>\n",
              "      <td>...</td>\n",
              "      <td>...</td>\n",
              "      <td>...</td>\n",
              "      <td>...</td>\n",
              "      <td>...</td>\n",
              "      <td>...</td>\n",
              "      <td>...</td>\n",
              "      <td>...</td>\n",
              "      <td>...</td>\n",
              "      <td>...</td>\n",
              "    </tr>\n",
              "    <tr>\n",
              "      <th>4315652</th>\n",
              "      <td>11</td>\n",
              "      <td>Z</td>\n",
              "      <td>Z</td>\n",
              "      <td>ZZZZ</td>\n",
              "      <td>Z</td>\n",
              "      <td>24</td>\n",
              "      <td>24</td>\n",
              "      <td>23</td>\n",
              "      <td>20</td>\n",
              "      <td>1994</td>\n",
              "      <td>...</td>\n",
              "      <td>1</td>\n",
              "      <td>4</td>\n",
              "      <td>Z</td>\n",
              "      <td>Z</td>\n",
              "      <td>Z</td>\n",
              "      <td>ZZZ</td>\n",
              "      <td>ZZ</td>\n",
              "      <td>1</td>\n",
              "      <td>Z</td>\n",
              "      <td>X</td>\n",
              "    </tr>\n",
              "    <tr>\n",
              "      <th>4315653</th>\n",
              "      <td>11</td>\n",
              "      <td>Z</td>\n",
              "      <td>Z</td>\n",
              "      <td>ZZZZ</td>\n",
              "      <td>Z</td>\n",
              "      <td>12</td>\n",
              "      <td>14</td>\n",
              "      <td>12</td>\n",
              "      <td>10</td>\n",
              "      <td>2004</td>\n",
              "      <td>...</td>\n",
              "      <td>Z</td>\n",
              "      <td>Z</td>\n",
              "      <td>Z</td>\n",
              "      <td>Z</td>\n",
              "      <td>Z</td>\n",
              "      <td>ZZZ</td>\n",
              "      <td>ZZ</td>\n",
              "      <td>1</td>\n",
              "      <td>Z</td>\n",
              "      <td>X</td>\n",
              "    </tr>\n",
              "    <tr>\n",
              "      <th>4315654</th>\n",
              "      <td>11</td>\n",
              "      <td>Z</td>\n",
              "      <td>Z</td>\n",
              "      <td>ZZZZ</td>\n",
              "      <td>Z</td>\n",
              "      <td>16</td>\n",
              "      <td>17</td>\n",
              "      <td>16</td>\n",
              "      <td>15</td>\n",
              "      <td>2000</td>\n",
              "      <td>...</td>\n",
              "      <td>Z</td>\n",
              "      <td>Z</td>\n",
              "      <td>Z</td>\n",
              "      <td>Z</td>\n",
              "      <td>Z</td>\n",
              "      <td>ZZZ</td>\n",
              "      <td>ZZ</td>\n",
              "      <td>1</td>\n",
              "      <td>Z</td>\n",
              "      <td>X</td>\n",
              "    </tr>\n",
              "    <tr>\n",
              "      <th>4315655</th>\n",
              "      <td>11</td>\n",
              "      <td>Z</td>\n",
              "      <td>Z</td>\n",
              "      <td>ZZZZ</td>\n",
              "      <td>Z</td>\n",
              "      <td>35</td>\n",
              "      <td>39</td>\n",
              "      <td>34</td>\n",
              "      <td>30</td>\n",
              "      <td>1981</td>\n",
              "      <td>...</td>\n",
              "      <td>Z</td>\n",
              "      <td>Z</td>\n",
              "      <td>Z</td>\n",
              "      <td>Z</td>\n",
              "      <td>Z</td>\n",
              "      <td>ZZZ</td>\n",
              "      <td>ZZ</td>\n",
              "      <td>1</td>\n",
              "      <td>Z</td>\n",
              "      <td>X</td>\n",
              "    </tr>\n",
              "    <tr>\n",
              "      <th>4315656</th>\n",
              "      <td>11</td>\n",
              "      <td>Z</td>\n",
              "      <td>Z</td>\n",
              "      <td>ZZZZ</td>\n",
              "      <td>Z</td>\n",
              "      <td>39</td>\n",
              "      <td>39</td>\n",
              "      <td>38</td>\n",
              "      <td>35</td>\n",
              "      <td>1977</td>\n",
              "      <td>...</td>\n",
              "      <td>2</td>\n",
              "      <td>5</td>\n",
              "      <td>Z</td>\n",
              "      <td>Z</td>\n",
              "      <td>Z</td>\n",
              "      <td>ZZZ</td>\n",
              "      <td>ZZ</td>\n",
              "      <td>1</td>\n",
              "      <td>Z</td>\n",
              "      <td>X</td>\n",
              "    </tr>\n",
              "  </tbody>\n",
              "</table>\n",
              "<p>4315657 rows × 97 columns</p>\n",
              "</div>\n",
              "    <div class=\"colab-df-buttons\">\n",
              "\n",
              "  <div class=\"colab-df-container\">\n",
              "    <button class=\"colab-df-convert\" onclick=\"convertToInteractive('df-afaabe71-ba81-4c9a-8548-b1cf32b8102f')\"\n",
              "            title=\"Convert this dataframe to an interactive table.\"\n",
              "            style=\"display:none;\">\n",
              "\n",
              "  <svg xmlns=\"http://www.w3.org/2000/svg\" height=\"24px\" viewBox=\"0 -960 960 960\">\n",
              "    <path d=\"M120-120v-720h720v720H120Zm60-500h600v-160H180v160Zm220 220h160v-160H400v160Zm0 220h160v-160H400v160ZM180-400h160v-160H180v160Zm440 0h160v-160H620v160ZM180-180h160v-160H180v160Zm440 0h160v-160H620v160Z\"/>\n",
              "  </svg>\n",
              "    </button>\n",
              "\n",
              "  <style>\n",
              "    .colab-df-container {\n",
              "      display:flex;\n",
              "      gap: 12px;\n",
              "    }\n",
              "\n",
              "    .colab-df-convert {\n",
              "      background-color: #E8F0FE;\n",
              "      border: none;\n",
              "      border-radius: 50%;\n",
              "      cursor: pointer;\n",
              "      display: none;\n",
              "      fill: #1967D2;\n",
              "      height: 32px;\n",
              "      padding: 0 0 0 0;\n",
              "      width: 32px;\n",
              "    }\n",
              "\n",
              "    .colab-df-convert:hover {\n",
              "      background-color: #E2EBFA;\n",
              "      box-shadow: 0px 1px 2px rgba(60, 64, 67, 0.3), 0px 1px 3px 1px rgba(60, 64, 67, 0.15);\n",
              "      fill: #174EA6;\n",
              "    }\n",
              "\n",
              "    .colab-df-buttons div {\n",
              "      margin-bottom: 4px;\n",
              "    }\n",
              "\n",
              "    [theme=dark] .colab-df-convert {\n",
              "      background-color: #3B4455;\n",
              "      fill: #D2E3FC;\n",
              "    }\n",
              "\n",
              "    [theme=dark] .colab-df-convert:hover {\n",
              "      background-color: #434B5C;\n",
              "      box-shadow: 0px 1px 3px 1px rgba(0, 0, 0, 0.15);\n",
              "      filter: drop-shadow(0px 1px 2px rgba(0, 0, 0, 0.3));\n",
              "      fill: #FFFFFF;\n",
              "    }\n",
              "  </style>\n",
              "\n",
              "    <script>\n",
              "      const buttonEl =\n",
              "        document.querySelector('#df-afaabe71-ba81-4c9a-8548-b1cf32b8102f button.colab-df-convert');\n",
              "      buttonEl.style.display =\n",
              "        google.colab.kernel.accessAllowed ? 'block' : 'none';\n",
              "\n",
              "      async function convertToInteractive(key) {\n",
              "        const element = document.querySelector('#df-afaabe71-ba81-4c9a-8548-b1cf32b8102f');\n",
              "        const dataTable =\n",
              "          await google.colab.kernel.invokeFunction('convertToInteractive',\n",
              "                                                    [key], {});\n",
              "        if (!dataTable) return;\n",
              "\n",
              "        const docLinkHtml = 'Like what you see? Visit the ' +\n",
              "          '<a target=\"_blank\" href=https://colab.research.google.com/notebooks/data_table.ipynb>data table notebook</a>'\n",
              "          + ' to learn more about interactive tables.';\n",
              "        element.innerHTML = '';\n",
              "        dataTable['output_type'] = 'display_data';\n",
              "        await google.colab.output.renderOutput(dataTable, element);\n",
              "        const docLink = document.createElement('div');\n",
              "        docLink.innerHTML = docLinkHtml;\n",
              "        element.appendChild(docLink);\n",
              "      }\n",
              "    </script>\n",
              "  </div>\n",
              "\n",
              "\n",
              "<div id=\"df-1ffd52c1-6ef9-4ebe-884d-383372a5e4c6\">\n",
              "  <button class=\"colab-df-quickchart\" onclick=\"quickchart('df-1ffd52c1-6ef9-4ebe-884d-383372a5e4c6')\"\n",
              "            title=\"Suggest charts\"\n",
              "            style=\"display:none;\">\n",
              "\n",
              "<svg xmlns=\"http://www.w3.org/2000/svg\" height=\"24px\"viewBox=\"0 0 24 24\"\n",
              "     width=\"24px\">\n",
              "    <g>\n",
              "        <path d=\"M19 3H5c-1.1 0-2 .9-2 2v14c0 1.1.9 2 2 2h14c1.1 0 2-.9 2-2V5c0-1.1-.9-2-2-2zM9 17H7v-7h2v7zm4 0h-2V7h2v10zm4 0h-2v-4h2v4z\"/>\n",
              "    </g>\n",
              "</svg>\n",
              "  </button>\n",
              "\n",
              "<style>\n",
              "  .colab-df-quickchart {\n",
              "      --bg-color: #E8F0FE;\n",
              "      --fill-color: #1967D2;\n",
              "      --hover-bg-color: #E2EBFA;\n",
              "      --hover-fill-color: #174EA6;\n",
              "      --disabled-fill-color: #AAA;\n",
              "      --disabled-bg-color: #DDD;\n",
              "  }\n",
              "\n",
              "  [theme=dark] .colab-df-quickchart {\n",
              "      --bg-color: #3B4455;\n",
              "      --fill-color: #D2E3FC;\n",
              "      --hover-bg-color: #434B5C;\n",
              "      --hover-fill-color: #FFFFFF;\n",
              "      --disabled-bg-color: #3B4455;\n",
              "      --disabled-fill-color: #666;\n",
              "  }\n",
              "\n",
              "  .colab-df-quickchart {\n",
              "    background-color: var(--bg-color);\n",
              "    border: none;\n",
              "    border-radius: 50%;\n",
              "    cursor: pointer;\n",
              "    display: none;\n",
              "    fill: var(--fill-color);\n",
              "    height: 32px;\n",
              "    padding: 0;\n",
              "    width: 32px;\n",
              "  }\n",
              "\n",
              "  .colab-df-quickchart:hover {\n",
              "    background-color: var(--hover-bg-color);\n",
              "    box-shadow: 0 1px 2px rgba(60, 64, 67, 0.3), 0 1px 3px 1px rgba(60, 64, 67, 0.15);\n",
              "    fill: var(--button-hover-fill-color);\n",
              "  }\n",
              "\n",
              "  .colab-df-quickchart-complete:disabled,\n",
              "  .colab-df-quickchart-complete:disabled:hover {\n",
              "    background-color: var(--disabled-bg-color);\n",
              "    fill: var(--disabled-fill-color);\n",
              "    box-shadow: none;\n",
              "  }\n",
              "\n",
              "  .colab-df-spinner {\n",
              "    border: 2px solid var(--fill-color);\n",
              "    border-color: transparent;\n",
              "    border-bottom-color: var(--fill-color);\n",
              "    animation:\n",
              "      spin 1s steps(1) infinite;\n",
              "  }\n",
              "\n",
              "  @keyframes spin {\n",
              "    0% {\n",
              "      border-color: transparent;\n",
              "      border-bottom-color: var(--fill-color);\n",
              "      border-left-color: var(--fill-color);\n",
              "    }\n",
              "    20% {\n",
              "      border-color: transparent;\n",
              "      border-left-color: var(--fill-color);\n",
              "      border-top-color: var(--fill-color);\n",
              "    }\n",
              "    30% {\n",
              "      border-color: transparent;\n",
              "      border-left-color: var(--fill-color);\n",
              "      border-top-color: var(--fill-color);\n",
              "      border-right-color: var(--fill-color);\n",
              "    }\n",
              "    40% {\n",
              "      border-color: transparent;\n",
              "      border-right-color: var(--fill-color);\n",
              "      border-top-color: var(--fill-color);\n",
              "    }\n",
              "    60% {\n",
              "      border-color: transparent;\n",
              "      border-right-color: var(--fill-color);\n",
              "    }\n",
              "    80% {\n",
              "      border-color: transparent;\n",
              "      border-right-color: var(--fill-color);\n",
              "      border-bottom-color: var(--fill-color);\n",
              "    }\n",
              "    90% {\n",
              "      border-color: transparent;\n",
              "      border-bottom-color: var(--fill-color);\n",
              "    }\n",
              "  }\n",
              "</style>\n",
              "\n",
              "  <script>\n",
              "    async function quickchart(key) {\n",
              "      const quickchartButtonEl =\n",
              "        document.querySelector('#' + key + ' button');\n",
              "      quickchartButtonEl.disabled = true;  // To prevent multiple clicks.\n",
              "      quickchartButtonEl.classList.add('colab-df-spinner');\n",
              "      try {\n",
              "        const charts = await google.colab.kernel.invokeFunction(\n",
              "            'suggestCharts', [key], {});\n",
              "      } catch (error) {\n",
              "        console.error('Error during call to suggestCharts:', error);\n",
              "      }\n",
              "      quickchartButtonEl.classList.remove('colab-df-spinner');\n",
              "      quickchartButtonEl.classList.add('colab-df-quickchart-complete');\n",
              "    }\n",
              "    (() => {\n",
              "      let quickchartButtonEl =\n",
              "        document.querySelector('#df-1ffd52c1-6ef9-4ebe-884d-383372a5e4c6 button');\n",
              "      quickchartButtonEl.style.display =\n",
              "        google.colab.kernel.accessAllowed ? 'block' : 'none';\n",
              "    })();\n",
              "  </script>\n",
              "</div>\n",
              "    </div>\n",
              "  </div>\n"
            ]
          },
          "metadata": {},
          "execution_count": 3
        }
      ],
      "source": [
        "import pandas as pd\n",
        "\n",
        "# Specify the path to your CSV file\n",
        "csv_file_path = \"/content/drive/MyDrive/Data Mining Project/data/unclean data/FD_INDREGZA_2016.csv\"\n",
        "\n",
        "# Read the CSV file into a Pandas DataFrame\n",
        "datazoneA = pd.read_csv(csv_file_path, delimiter=\";\")\n",
        "\n",
        "datazoneA"
      ]
    },
    {
      "cell_type": "code",
      "execution_count": null,
      "id": "88c149de",
      "metadata": {
        "id": "88c149de",
        "outputId": "0bf39c8b-3486-4178-d551-f825bfa2986e"
      },
      "outputs": [
        {
          "data": {
            "image/png": "[encoded data removed]",
            "text/plain": [
              "<Figure size 432x288 with 1 Axes>"
            ]
          },
          "metadata": {
            "needs_background": "light"
          },
          "output_type": "display_data"
        }
      ],
      "source": [
        "import pandas as pd\n",
        "import matplotlib.pyplot as plt\n",
        "\n",
        "# Assuming the 'SEXE' column contains numeric values (e.g., 1 for Male, 2 for Female)\n",
        "# You should check your actual dataset to see the numeric codes used for 'SEXE'\n",
        "sex_counts = datazoneA['SEXE'].value_counts()\n",
        "\n",
        "# Create a population pyramid\n",
        "fig, ax = plt.subplots()\n",
        "\n",
        "# Plotting the male and female data\n",
        "ax.bar('Male', sex_counts[1], color='blue', label='Male')\n",
        "ax.bar('Female', sex_counts[2], color='pink', label='Female')\n",
        "\n",
        "# Customize the appearance\n",
        "ax.set_ylabel('Population Count')\n",
        "ax.set_title('Population Pyramid: Male vs Female')\n",
        "ax.legend()\n",
        "\n",
        "# Show the plot\n",
        "plt.show()\n"
      ]
    },
    {
      "cell_type": "code",
      "execution_count": null,
      "id": "4f994807",
      "metadata": {
        "id": "4f994807",
        "outputId": "c2b194a6-b191-44be-cc53-78e1e75fb8d1"
      },
      "outputs": [
        {
          "data": {
            "text/plain": [
              "0          30\n",
              "1          21\n",
              "2          41\n",
              "3          30\n",
              "4           9\n",
              "           ..\n",
              "4315652    24\n",
              "4315653    12\n",
              "4315654    16\n",
              "4315655    35\n",
              "4315656    39\n",
              "Name: AGED, Length: 4315657, dtype: int64"
            ]
          },
          "execution_count": 19,
          "metadata": {},
          "output_type": "execute_result"
        }
      ],
      "source": [
        "datazoneA['AGED']"
      ]
    },
    {
      "cell_type": "code",
      "execution_count": null,
      "id": "3d20f297",
      "metadata": {
        "id": "3d20f297",
        "outputId": "3793af70-343f-4c67-f916-07a81f75c84b"
      },
      "outputs": [
        {
          "data": {
            "application/vnd.plotly.v1+json": {
              "config": {
                "plotlyServerURL": "https://plot.ly"
              },
              "data": [
                {
                  "name": "Male",
                  "orientation": "h",
                  "type": "bar",
                  "x": [
                    277793,
                    267635,
                    298393,
                    319234,
                    295518,
                    252039,
                    190217,
                    108771,
                    56766,
                    11480,
                    335
                  ],
                  "y": [
                    "[0, 10)",
                    "[10, 20)",
                    "[20, 30)",
                    "[30, 40)",
                    "[40, 50)",
                    "[50, 60)",
                    "[60, 70)",
                    "[70, 80)",
                    "[80, 90)",
                    "[90, 100)",
                    "nan"
                  ]
                },
                {
                  "name": "Female",
                  "orientation": "h",
                  "type": "bar",
                  "x": [
                    -267534,
                    -258526,
                    -320806,
                    -341759,
                    -299693,
                    -270362,
                    -217522,
                    -134596,
                    -95511,
                    -29911,
                    -1256
                  ],
                  "y": [
                    "[0, 10)",
                    "[10, 20)",
                    "[20, 30)",
                    "[30, 40)",
                    "[40, 50)",
                    "[50, 60)",
                    "[60, 70)",
                    "[70, 80)",
                    "[80, 90)",
                    "[90, 100)",
                    "nan"
                  ]
                }
              ],
              "layout": {
                "bargap": 0,
                "bargroupgap": 0,
                "barmode": "relative",
                "template": {
                  "data": {
                    "bar": [
                      {
                        "error_x": {
                          "color": "#2a3f5f"
                        },
                        "error_y": {
                          "color": "#2a3f5f"
                        },
                        "marker": {
                          "line": {
                            "color": "#E5ECF6",
                            "width": 0.5
                          },
                          "pattern": {
                            "fillmode": "overlay",
                            "size": 10,
                            "solidity": 0.2
                          }
                        },
                        "type": "bar"
                      }
                    ],
                    "barpolar": [
                      {
                        "marker": {
                          "line": {
                            "color": "#E5ECF6",
                            "width": 0.5
                          },
                          "pattern": {
                            "fillmode": "overlay",
                            "size": 10,
                            "solidity": 0.2
                          }
                        },
                        "type": "barpolar"
                      }
                    ],
                    "carpet": [
                      {
                        "aaxis": {
                          "endlinecolor": "#2a3f5f",
                          "gridcolor": "white",
                          "linecolor": "white",
                          "minorgridcolor": "white",
                          "startlinecolor": "#2a3f5f"
                        },
                        "baxis": {
                          "endlinecolor": "#2a3f5f",
                          "gridcolor": "white",
                          "linecolor": "white",
                          "minorgridcolor": "white",
                          "startlinecolor": "#2a3f5f"
                        },
                        "type": "carpet"
                      }
                    ],
                    "choropleth": [
                      {
                        "colorbar": {
                          "outlinewidth": 0,
                          "ticks": ""
                        },
                        "type": "choropleth"
                      }
                    ],
                    "contour": [
                      {
                        "colorbar": {
                          "outlinewidth": 0,
                          "ticks": ""
                        },
                        "colorscale": [
                          [
                            0,
                            "#0d0887"
                          ],
                          [
                            0.1111111111111111,
                            "#46039f"
                          ],
                          [
                            0.2222222222222222,
                            "#7201a8"
                          ],
                          [
                            0.3333333333333333,
                            "#9c179e"
                          ],
                          [
                            0.4444444444444444,
                            "#bd3786"
                          ],
                          [
                            0.5555555555555556,
                            "#d8576b"
                          ],
                          [
                            0.6666666666666666,
                            "#ed7953"
                          ],
                          [
                            0.7777777777777778,
                            "#fb9f3a"
                          ],
                          [
                            0.8888888888888888,
                            "#fdca26"
                          ],
                          [
                            1,
                            "#f0f921"
                          ]
                        ],
                        "type": "contour"
                      }
                    ],
                    "contourcarpet": [
                      {
                        "colorbar": {
                          "outlinewidth": 0,
                          "ticks": ""
                        },
                        "type": "contourcarpet"
                      }
                    ],
                    "heatmap": [
                      {
                        "colorbar": {
                          "outlinewidth": 0,
                          "ticks": ""
                        },
                        "colorscale": [
                          [
                            0,
                            "#0d0887"
                          ],
                          [
                            0.1111111111111111,
                            "#46039f"
                          ],
                          [
                            0.2222222222222222,
                            "#7201a8"
                          ],
                          [
                            0.3333333333333333,
                            "#9c179e"
                          ],
                          [
                            0.4444444444444444,
                            "#bd3786"
                          ],
                          [
                            0.5555555555555556,
                            "#d8576b"
                          ],
                          [
                            0.6666666666666666,
                            "#ed7953"
                          ],
                          [
                            0.7777777777777778,
                            "#fb9f3a"
                          ],
                          [
                            0.8888888888888888,
                            "#fdca26"
                          ],
                          [
                            1,
                            "#f0f921"
                          ]
                        ],
                        "type": "heatmap"
                      }
                    ],
                    "heatmapgl": [
                      {
                        "colorbar": {
                          "outlinewidth": 0,
                          "ticks": ""
                        },
                        "colorscale": [
                          [
                            0,
                            "#0d0887"
                          ],
                          [
                            0.1111111111111111,
                            "#46039f"
                          ],
                          [
                            0.2222222222222222,
                            "#7201a8"
                          ],
                          [
                            0.3333333333333333,
                            "#9c179e"
                          ],
                          [
                            0.4444444444444444,
                            "#bd3786"
                          ],
                          [
                            0.5555555555555556,
                            "#d8576b"
                          ],
                          [
                            0.6666666666666666,
                            "#ed7953"
                          ],
                          [
                            0.7777777777777778,
                            "#fb9f3a"
                          ],
                          [
                            0.8888888888888888,
                            "#fdca26"
                          ],
                          [
                            1,
                            "#f0f921"
                          ]
                        ],
                        "type": "heatmapgl"
                      }
                    ],
                    "histogram": [
                      {
                        "marker": {
                          "pattern": {
                            "fillmode": "overlay",
                            "size": 10,
                            "solidity": 0.2
                          }
                        },
                        "type": "histogram"
                      }
                    ],
                    "histogram2d": [
                      {
                        "colorbar": {
                          "outlinewidth": 0,
                          "ticks": ""
                        },
                        "colorscale": [
                          [
                            0,
                            "#0d0887"
                          ],
                          [
                            0.1111111111111111,
                            "#46039f"
                          ],
                          [
                            0.2222222222222222,
                            "#7201a8"
                          ],
                          [
                            0.3333333333333333,
                            "#9c179e"
                          ],
                          [
                            0.4444444444444444,
                            "#bd3786"
                          ],
                          [
                            0.5555555555555556,
                            "#d8576b"
                          ],
                          [
                            0.6666666666666666,
                            "#ed7953"
                          ],
                          [
                            0.7777777777777778,
                            "#fb9f3a"
                          ],
                          [
                            0.8888888888888888,
                            "#fdca26"
                          ],
                          [
                            1,
                            "#f0f921"
                          ]
                        ],
                        "type": "histogram2d"
                      }
                    ],
                    "histogram2dcontour": [
                      {
                        "colorbar": {
                          "outlinewidth": 0,
                          "ticks": ""
                        },
                        "colorscale": [
                          [
                            0,
                            "#0d0887"
                          ],
                          [
                            0.1111111111111111,
                            "#46039f"
                          ],
                          [
                            0.2222222222222222,
                            "#7201a8"
                          ],
                          [
                            0.3333333333333333,
                            "#9c179e"
                          ],
                          [
                            0.4444444444444444,
                            "#bd3786"
                          ],
                          [
                            0.5555555555555556,
                            "#d8576b"
                          ],
                          [
                            0.6666666666666666,
                            "#ed7953"
                          ],
                          [
                            0.7777777777777778,
                            "#fb9f3a"
                          ],
                          [
                            0.8888888888888888,
                            "#fdca26"
                          ],
                          [
                            1,
                            "#f0f921"
                          ]
                        ],
                        "type": "histogram2dcontour"
                      }
                    ],
                    "mesh3d": [
                      {
                        "colorbar": {
                          "outlinewidth": 0,
                          "ticks": ""
                        },
                        "type": "mesh3d"
                      }
                    ],
                    "parcoords": [
                      {
                        "line": {
                          "colorbar": {
                            "outlinewidth": 0,
                            "ticks": ""
                          }
                        },
                        "type": "parcoords"
                      }
                    ],
                    "pie": [
                      {
                        "automargin": true,
                        "type": "pie"
                      }
                    ],
                    "scatter": [
                      {
                        "marker": {
                          "colorbar": {
                            "outlinewidth": 0,
                            "ticks": ""
                          }
                        },
                        "type": "scatter"
                      }
                    ],
                    "scatter3d": [
                      {
                        "line": {
                          "colorbar": {
                            "outlinewidth": 0,
                            "ticks": ""
                          }
                        },
                        "marker": {
                          "colorbar": {
                            "outlinewidth": 0,
                            "ticks": ""
                          }
                        },
                        "type": "scatter3d"
                      }
                    ],
                    "scattercarpet": [
                      {
                        "marker": {
                          "colorbar": {
                            "outlinewidth": 0,
                            "ticks": ""
                          }
                        },
                        "type": "scattercarpet"
                      }
                    ],
                    "scattergeo": [
                      {
                        "marker": {
                          "colorbar": {
                            "outlinewidth": 0,
                            "ticks": ""
                          }
                        },
                        "type": "scattergeo"
                      }
                    ],
                    "scattergl": [
                      {
                        "marker": {
                          "colorbar": {
                            "outlinewidth": 0,
                            "ticks": ""
                          }
                        },
                        "type": "scattergl"
                      }
                    ],
                    "scattermapbox": [
                      {
                        "marker": {
                          "colorbar": {
                            "outlinewidth": 0,
                            "ticks": ""
                          }
                        },
                        "type": "scattermapbox"
                      }
                    ],
                    "scatterpolar": [
                      {
                        "marker": {
                          "colorbar": {
                            "outlinewidth": 0,
                            "ticks": ""
                          }
                        },
                        "type": "scatterpolar"
                      }
                    ],
                    "scatterpolargl": [
                      {
                        "marker": {
                          "colorbar": {
                            "outlinewidth": 0,
                            "ticks": ""
                          }
                        },
                        "type": "scatterpolargl"
                      }
                    ],
                    "scatterternary": [
                      {
                        "marker": {
                          "colorbar": {
                            "outlinewidth": 0,
                            "ticks": ""
                          }
                        },
                        "type": "scatterternary"
                      }
                    ],
                    "surface": [
                      {
                        "colorbar": {
                          "outlinewidth": 0,
                          "ticks": ""
                        },
                        "colorscale": [
                          [
                            0,
                            "#0d0887"
                          ],
                          [
                            0.1111111111111111,
                            "#46039f"
                          ],
                          [
                            0.2222222222222222,
                            "#7201a8"
                          ],
                          [
                            0.3333333333333333,
                            "#9c179e"
                          ],
                          [
                            0.4444444444444444,
                            "#bd3786"
                          ],
                          [
                            0.5555555555555556,
                            "#d8576b"
                          ],
                          [
                            0.6666666666666666,
                            "#ed7953"
                          ],
                          [
                            0.7777777777777778,
                            "#fb9f3a"
                          ],
                          [
                            0.8888888888888888,
                            "#fdca26"
                          ],
                          [
                            1,
                            "#f0f921"
                          ]
                        ],
                        "type": "surface"
                      }
                    ],
                    "table": [
                      {
                        "cells": {
                          "fill": {
                            "color": "#EBF0F8"
                          },
                          "line": {
                            "color": "white"
                          }
                        },
                        "header": {
                          "fill": {
                            "color": "#C8D4E3"
                          },
                          "line": {
                            "color": "white"
                          }
                        },
                        "type": "table"
                      }
                    ]
                  },
                  "layout": {
                    "annotationdefaults": {
                      "arrowcolor": "#2a3f5f",
                      "arrowhead": 0,
                      "arrowwidth": 1
                    },
                    "autotypenumbers": "strict",
                    "coloraxis": {
                      "colorbar": {
                        "outlinewidth": 0,
                        "ticks": ""
                      }
                    },
                    "colorscale": {
                      "diverging": [
                        [
                          0,
                          "#8e0152"
                        ],
                        [
                          0.1,
                          "#c51b7d"
                        ],
                        [
                          0.2,
                          "#de77ae"
                        ],
                        [
                          0.3,
                          "#f1b6da"
                        ],
                        [
                          0.4,
                          "#fde0ef"
                        ],
                        [
                          0.5,
                          "#f7f7f7"
                        ],
                        [
                          0.6,
                          "#e6f5d0"
                        ],
                        [
                          0.7,
                          "#b8e186"
                        ],
                        [
                          0.8,
                          "#7fbc41"
                        ],
                        [
                          0.9,
                          "#4d9221"
                        ],
                        [
                          1,
                          "#276419"
                        ]
                      ],
                      "sequential": [
                        [
                          0,
                          "#0d0887"
                        ],
                        [
                          0.1111111111111111,
                          "#46039f"
                        ],
                        [
                          0.2222222222222222,
                          "#7201a8"
                        ],
                        [
                          0.3333333333333333,
                          "#9c179e"
                        ],
                        [
                          0.4444444444444444,
                          "#bd3786"
                        ],
                        [
                          0.5555555555555556,
                          "#d8576b"
                        ],
                        [
                          0.6666666666666666,
                          "#ed7953"
                        ],
                        [
                          0.7777777777777778,
                          "#fb9f3a"
                        ],
                        [
                          0.8888888888888888,
                          "#fdca26"
                        ],
                        [
                          1,
                          "#f0f921"
                        ]
                      ],
                      "sequentialminus": [
                        [
                          0,
                          "#0d0887"
                        ],
                        [
                          0.1111111111111111,
                          "#46039f"
                        ],
                        [
                          0.2222222222222222,
                          "#7201a8"
                        ],
                        [
                          0.3333333333333333,
                          "#9c179e"
                        ],
                        [
                          0.4444444444444444,
                          "#bd3786"
                        ],
                        [
                          0.5555555555555556,
                          "#d8576b"
                        ],
                        [
                          0.6666666666666666,
                          "#ed7953"
                        ],
                        [
                          0.7777777777777778,
                          "#fb9f3a"
                        ],
                        [
                          0.8888888888888888,
                          "#fdca26"
                        ],
                        [
                          1,
                          "#f0f921"
                        ]
                      ]
                    },
                    "colorway": [
                      "#636efa",
                      "#EF553B",
                      "#00cc96",
                      "#ab63fa",
                      "#FFA15A",
                      "#19d3f3",
                      "#FF6692",
                      "#B6E880",
                      "#FF97FF",
                      "#FECB52"
                    ],
                    "font": {
                      "color": "#2a3f5f"
                    },
                    "geo": {
                      "bgcolor": "white",
                      "lakecolor": "white",
                      "landcolor": "#E5ECF6",
                      "showlakes": true,
                      "showland": true,
                      "subunitcolor": "white"
                    },
                    "hoverlabel": {
                      "align": "left"
                    },
                    "hovermode": "closest",
                    "mapbox": {
                      "style": "light"
                    },
                    "paper_bgcolor": "white",
                    "plot_bgcolor": "#E5ECF6",
                    "polar": {
                      "angularaxis": {
                        "gridcolor": "white",
                        "linecolor": "white",
                        "ticks": ""
                      },
                      "bgcolor": "#E5ECF6",
                      "radialaxis": {
                        "gridcolor": "white",
                        "linecolor": "white",
                        "ticks": ""
                      }
                    },
                    "scene": {
                      "xaxis": {
                        "backgroundcolor": "#E5ECF6",
                        "gridcolor": "white",
                        "gridwidth": 2,
                        "linecolor": "white",
                        "showbackground": true,
                        "ticks": "",
                        "zerolinecolor": "white"
                      },
                      "yaxis": {
                        "backgroundcolor": "#E5ECF6",
                        "gridcolor": "white",
                        "gridwidth": 2,
                        "linecolor": "white",
                        "showbackground": true,
                        "ticks": "",
                        "zerolinecolor": "white"
                      },
                      "zaxis": {
                        "backgroundcolor": "#E5ECF6",
                        "gridcolor": "white",
                        "gridwidth": 2,
                        "linecolor": "white",
                        "showbackground": true,
                        "ticks": "",
                        "zerolinecolor": "white"
                      }
                    },
                    "shapedefaults": {
                      "line": {
                        "color": "#2a3f5f"
                      }
                    },
                    "ternary": {
                      "aaxis": {
                        "gridcolor": "white",
                        "linecolor": "white",
                        "ticks": ""
                      },
                      "baxis": {
                        "gridcolor": "white",
                        "linecolor": "white",
                        "ticks": ""
                      },
                      "bgcolor": "#E5ECF6",
                      "caxis": {
                        "gridcolor": "white",
                        "linecolor": "white",
                        "ticks": ""
                      }
                    },
                    "title": {
                      "x": 0.05
                    },
                    "xaxis": {
                      "automargin": true,
                      "gridcolor": "white",
                      "linecolor": "white",
                      "ticks": "",
                      "title": {
                        "standoff": 15
                      },
                      "zerolinecolor": "white",
                      "zerolinewidth": 2
                    },
                    "yaxis": {
                      "automargin": true,
                      "gridcolor": "white",
                      "linecolor": "white",
                      "ticks": "",
                      "title": {
                        "standoff": 15
                      },
                      "zerolinecolor": "white",
                      "zerolinewidth": 2
                    }
                  }
                },
                "title": {
                  "font": {
                    "size": 22
                  },
                  "text": "Population Pyramid of Zone A France"
                },
                "xaxis": {
                  "ticktext": [
                    "6M",
                    "4M",
                    "2M",
                    "0",
                    "2M",
                    "4M",
                    "6M"
                  ],
                  "tickvals": [
                    -60000000,
                    -40000000,
                    -20000000,
                    0,
                    20000000,
                    40000000,
                    60000000
                  ],
                  "title": {
                    "font": {
                      "size": 14
                    },
                    "text": "Population in Millions"
                  }
                }
              }
            },
            "text/html": [
              "<div>                            <div id=\"9ed1f015-f7a8-45fb-a7d3-686ecbfba784\" class=\"plotly-graph-div\" style=\"height:525px; width:100%;\"></div>            <script type=\"text/javascript\">                require([\"plotly\"], function(Plotly) {                    window.PLOTLYENV=window.PLOTLYENV || {};                                    if (document.getElementById(\"9ed1f015-f7a8-45fb-a7d3-686ecbfba784\")) {                    Plotly.newPlot(                        \"9ed1f015-f7a8-45fb-a7d3-686ecbfba784\",                        [{\"name\":\"Male\",\"orientation\":\"h\",\"x\":[277793,267635,298393,319234,295518,252039,190217,108771,56766,11480,335],\"y\":[\"[0, 10)\",\"[10, 20)\",\"[20, 30)\",\"[30, 40)\",\"[40, 50)\",\"[50, 60)\",\"[60, 70)\",\"[70, 80)\",\"[80, 90)\",\"[90, 100)\",\"nan\"],\"type\":\"bar\"},{\"name\":\"Female\",\"orientation\":\"h\",\"x\":[-267534,-258526,-320806,-341759,-299693,-270362,-217522,-134596,-95511,-29911,-1256],\"y\":[\"[0, 10)\",\"[10, 20)\",\"[20, 30)\",\"[30, 40)\",\"[40, 50)\",\"[50, 60)\",\"[60, 70)\",\"[70, 80)\",\"[80, 90)\",\"[90, 100)\",\"nan\"],\"type\":\"bar\"}],                        {\"template\":{\"data\":{\"bar\":[{\"error_x\":{\"color\":\"#2a3f5f\"},\"error_y\":{\"color\":\"#2a3f5f\"},\"marker\":{\"line\":{\"color\":\"#E5ECF6\",\"width\":0.5},\"pattern\":{\"fillmode\":\"overlay\",\"size\":10,\"solidity\":0.2}},\"type\":\"bar\"}],\"barpolar\":[{\"marker\":{\"line\":{\"color\":\"#E5ECF6\",\"width\":0.5},\"pattern\":{\"fillmode\":\"overlay\",\"size\":10,\"solidity\":0.2}},\"type\":\"barpolar\"}],\"carpet\":[{\"aaxis\":{\"endlinecolor\":\"#2a3f5f\",\"gridcolor\":\"white\",\"linecolor\":\"white\",\"minorgridcolor\":\"white\",\"startlinecolor\":\"#2a3f5f\"},\"baxis\":{\"endlinecolor\":\"#2a3f5f\",\"gridcolor\":\"white\",\"linecolor\":\"white\",\"minorgridcolor\":\"white\",\"startlinecolor\":\"#2a3f5f\"},\"type\":\"carpet\"}],\"choropleth\":[{\"colorbar\":{\"outlinewidth\":0,\"ticks\":\"\"},\"type\":\"choropleth\"}],\"contour\":[{\"colorbar\":{\"outlinewidth\":0,\"ticks\":\"\"},\"colorscale\":[[0.0,\"#0d0887\"],[0.1111111111111111,\"#46039f\"],[0.2222222222222222,\"#7201a8\"],[0.3333333333333333,\"#9c179e\"],[0.4444444444444444,\"#bd3786\"],[0.5555555555555556,\"#d8576b\"],[0.6666666666666666,\"#ed7953\"],[0.7777777777777778,\"#fb9f3a\"],[0.8888888888888888,\"#fdca26\"],[1.0,\"#f0f921\"]],\"type\":\"contour\"}],\"contourcarpet\":[{\"colorbar\":{\"outlinewidth\":0,\"ticks\":\"\"},\"type\":\"contourcarpet\"}],\"heatmap\":[{\"colorbar\":{\"outlinewidth\":0,\"ticks\":\"\"},\"colorscale\":[[0.0,\"#0d0887\"],[0.1111111111111111,\"#46039f\"],[0.2222222222222222,\"#7201a8\"],[0.3333333333333333,\"#9c179e\"],[0.4444444444444444,\"#bd3786\"],[0.5555555555555556,\"#d8576b\"],[0.6666666666666666,\"#ed7953\"],[0.7777777777777778,\"#fb9f3a\"],[0.8888888888888888,\"#fdca26\"],[1.0,\"#f0f921\"]],\"type\":\"heatmap\"}],\"heatmapgl\":[{\"colorbar\":{\"outlinewidth\":0,\"ticks\":\"\"},\"colorscale\":[[0.0,\"#0d0887\"],[0.1111111111111111,\"#46039f\"],[0.2222222222222222,\"#7201a8\"],[0.3333333333333333,\"#9c179e\"],[0.4444444444444444,\"#bd3786\"],[0.5555555555555556,\"#d8576b\"],[0.6666666666666666,\"#ed7953\"],[0.7777777777777778,\"#fb9f3a\"],[0.8888888888888888,\"#fdca26\"],[1.0,\"#f0f921\"]],\"type\":\"heatmapgl\"}],\"histogram\":[{\"marker\":{\"pattern\":{\"fillmode\":\"overlay\",\"size\":10,\"solidity\":0.2}},\"type\":\"histogram\"}],\"histogram2d\":[{\"colorbar\":{\"outlinewidth\":0,\"ticks\":\"\"},\"colorscale\":[[0.0,\"#0d0887\"],[0.1111111111111111,\"#46039f\"],[0.2222222222222222,\"#7201a8\"],[0.3333333333333333,\"#9c179e\"],[0.4444444444444444,\"#bd3786\"],[0.5555555555555556,\"#d8576b\"],[0.6666666666666666,\"#ed7953\"],[0.7777777777777778,\"#fb9f3a\"],[0.8888888888888888,\"#fdca26\"],[1.0,\"#f0f921\"]],\"type\":\"histogram2d\"}],\"histogram2dcontour\":[{\"colorbar\":{\"outlinewidth\":0,\"ticks\":\"\"},\"colorscale\":[[0.0,\"#0d0887\"],[0.1111111111111111,\"#46039f\"],[0.2222222222222222,\"#7201a8\"],[0.3333333333333333,\"#9c179e\"],[0.4444444444444444,\"#bd3786\"],[0.5555555555555556,\"#d8576b\"],[0.6666666666666666,\"#ed7953\"],[0.7777777777777778,\"#fb9f3a\"],[0.8888888888888888,\"#fdca26\"],[1.0,\"#f0f921\"]],\"type\":\"histogram2dcontour\"}],\"mesh3d\":[{\"colorbar\":{\"outlinewidth\":0,\"ticks\":\"\"},\"type\":\"mesh3d\"}],\"parcoords\":[{\"line\":{\"colorbar\":{\"outlinewidth\":0,\"ticks\":\"\"}},\"type\":\"parcoords\"}],\"pie\":[{\"automargin\":true,\"type\":\"pie\"}],\"scatter\":[{\"marker\":{\"colorbar\":{\"outlinewidth\":0,\"ticks\":\"\"}},\"type\":\"scatter\"}],\"scatter3d\":[{\"line\":{\"colorbar\":{\"outlinewidth\":0,\"ticks\":\"\"}},\"marker\":{\"colorbar\":{\"outlinewidth\":0,\"ticks\":\"\"}},\"type\":\"scatter3d\"}],\"scattercarpet\":[{\"marker\":{\"colorbar\":{\"outlinewidth\":0,\"ticks\":\"\"}},\"type\":\"scattercarpet\"}],\"scattergeo\":[{\"marker\":{\"colorbar\":{\"outlinewidth\":0,\"ticks\":\"\"}},\"type\":\"scattergeo\"}],\"scattergl\":[{\"marker\":{\"colorbar\":{\"outlinewidth\":0,\"ticks\":\"\"}},\"type\":\"scattergl\"}],\"scattermapbox\":[{\"marker\":{\"colorbar\":{\"outlinewidth\":0,\"ticks\":\"\"}},\"type\":\"scattermapbox\"}],\"scatterpolar\":[{\"marker\":{\"colorbar\":{\"outlinewidth\":0,\"ticks\":\"\"}},\"type\":\"scatterpolar\"}],\"scatterpolargl\":[{\"marker\":{\"colorbar\":{\"outlinewidth\":0,\"ticks\":\"\"}},\"type\":\"scatterpolargl\"}],\"scatterternary\":[{\"marker\":{\"colorbar\":{\"outlinewidth\":0,\"ticks\":\"\"}},\"type\":\"scatterternary\"}],\"surface\":[{\"colorbar\":{\"outlinewidth\":0,\"ticks\":\"\"},\"colorscale\":[[0.0,\"#0d0887\"],[0.1111111111111111,\"#46039f\"],[0.2222222222222222,\"#7201a8\"],[0.3333333333333333,\"#9c179e\"],[0.4444444444444444,\"#bd3786\"],[0.5555555555555556,\"#d8576b\"],[0.6666666666666666,\"#ed7953\"],[0.7777777777777778,\"#fb9f3a\"],[0.8888888888888888,\"#fdca26\"],[1.0,\"#f0f921\"]],\"type\":\"surface\"}],\"table\":[{\"cells\":{\"fill\":{\"color\":\"#EBF0F8\"},\"line\":{\"color\":\"white\"}},\"header\":{\"fill\":{\"color\":\"#C8D4E3\"},\"line\":{\"color\":\"white\"}},\"type\":\"table\"}]},\"layout\":{\"annotationdefaults\":{\"arrowcolor\":\"#2a3f5f\",\"arrowhead\":0,\"arrowwidth\":1},\"autotypenumbers\":\"strict\",\"coloraxis\":{\"colorbar\":{\"outlinewidth\":0,\"ticks\":\"\"}},\"colorscale\":{\"diverging\":[[0,\"#8e0152\"],[0.1,\"#c51b7d\"],[0.2,\"#de77ae\"],[0.3,\"#f1b6da\"],[0.4,\"#fde0ef\"],[0.5,\"#f7f7f7\"],[0.6,\"#e6f5d0\"],[0.7,\"#b8e186\"],[0.8,\"#7fbc41\"],[0.9,\"#4d9221\"],[1,\"#276419\"]],\"sequential\":[[0.0,\"#0d0887\"],[0.1111111111111111,\"#46039f\"],[0.2222222222222222,\"#7201a8\"],[0.3333333333333333,\"#9c179e\"],[0.4444444444444444,\"#bd3786\"],[0.5555555555555556,\"#d8576b\"],[0.6666666666666666,\"#ed7953\"],[0.7777777777777778,\"#fb9f3a\"],[0.8888888888888888,\"#fdca26\"],[1.0,\"#f0f921\"]],\"sequentialminus\":[[0.0,\"#0d0887\"],[0.1111111111111111,\"#46039f\"],[0.2222222222222222,\"#7201a8\"],[0.3333333333333333,\"#9c179e\"],[0.4444444444444444,\"#bd3786\"],[0.5555555555555556,\"#d8576b\"],[0.6666666666666666,\"#ed7953\"],[0.7777777777777778,\"#fb9f3a\"],[0.8888888888888888,\"#fdca26\"],[1.0,\"#f0f921\"]]},\"colorway\":[\"#636efa\",\"#EF553B\",\"#00cc96\",\"#ab63fa\",\"#FFA15A\",\"#19d3f3\",\"#FF6692\",\"#B6E880\",\"#FF97FF\",\"#FECB52\"],\"font\":{\"color\":\"#2a3f5f\"},\"geo\":{\"bgcolor\":\"white\",\"lakecolor\":\"white\",\"landcolor\":\"#E5ECF6\",\"showlakes\":true,\"showland\":true,\"subunitcolor\":\"white\"},\"hoverlabel\":{\"align\":\"left\"},\"hovermode\":\"closest\",\"mapbox\":{\"style\":\"light\"},\"paper_bgcolor\":\"white\",\"plot_bgcolor\":\"#E5ECF6\",\"polar\":{\"angularaxis\":{\"gridcolor\":\"white\",\"linecolor\":\"white\",\"ticks\":\"\"},\"bgcolor\":\"#E5ECF6\",\"radialaxis\":{\"gridcolor\":\"white\",\"linecolor\":\"white\",\"ticks\":\"\"}},\"scene\":{\"xaxis\":{\"backgroundcolor\":\"#E5ECF6\",\"gridcolor\":\"white\",\"gridwidth\":2,\"linecolor\":\"white\",\"showbackground\":true,\"ticks\":\"\",\"zerolinecolor\":\"white\"},\"yaxis\":{\"backgroundcolor\":\"#E5ECF6\",\"gridcolor\":\"white\",\"gridwidth\":2,\"linecolor\":\"white\",\"showbackground\":true,\"ticks\":\"\",\"zerolinecolor\":\"white\"},\"zaxis\":{\"backgroundcolor\":\"#E5ECF6\",\"gridcolor\":\"white\",\"gridwidth\":2,\"linecolor\":\"white\",\"showbackground\":true,\"ticks\":\"\",\"zerolinecolor\":\"white\"}},\"shapedefaults\":{\"line\":{\"color\":\"#2a3f5f\"}},\"ternary\":{\"aaxis\":{\"gridcolor\":\"white\",\"linecolor\":\"white\",\"ticks\":\"\"},\"baxis\":{\"gridcolor\":\"white\",\"linecolor\":\"white\",\"ticks\":\"\"},\"bgcolor\":\"#E5ECF6\",\"caxis\":{\"gridcolor\":\"white\",\"linecolor\":\"white\",\"ticks\":\"\"}},\"title\":{\"x\":0.05},\"xaxis\":{\"automargin\":true,\"gridcolor\":\"white\",\"linecolor\":\"white\",\"ticks\":\"\",\"title\":{\"standoff\":15},\"zerolinecolor\":\"white\",\"zerolinewidth\":2},\"yaxis\":{\"automargin\":true,\"gridcolor\":\"white\",\"linecolor\":\"white\",\"ticks\":\"\",\"title\":{\"standoff\":15},\"zerolinecolor\":\"white\",\"zerolinewidth\":2}}},\"title\":{\"text\":\"Population Pyramid of Zone A France\",\"font\":{\"size\":22}},\"xaxis\":{\"title\":{\"text\":\"Population in Millions\",\"font\":{\"size\":14}},\"tickvals\":[-60000000,-40000000,-20000000,0,20000000,40000000,60000000],\"ticktext\":[\"6M\",\"4M\",\"2M\",\"0\",\"2M\",\"4M\",\"6M\"]},\"barmode\":\"relative\",\"bargap\":0.0,\"bargroupgap\":0},                        {\"responsive\": true}                    ).then(function(){\n",
              "                            \n",
              "var gd = document.getElementById('9ed1f015-f7a8-45fb-a7d3-686ecbfba784');\n",
              "var x = new MutationObserver(function (mutations, observer) {{\n",
              "        var display = window.getComputedStyle(gd).display;\n",
              "        if (!display || display === 'none') {{\n",
              "            console.log([gd, 'removed!']);\n",
              "            Plotly.purge(gd);\n",
              "            observer.disconnect();\n",
              "        }}\n",
              "}});\n",
              "\n",
              "// Listen for the removal of the full notebook cells\n",
              "var notebookContainer = gd.closest('#notebook-container');\n",
              "if (notebookContainer) {{\n",
              "    x.observe(notebookContainer, {childList: true});\n",
              "}}\n",
              "\n",
              "// Listen for the clearing of the current output cell\n",
              "var outputEl = gd.closest('.output');\n",
              "if (outputEl) {{\n",
              "    x.observe(outputEl, {childList: true});\n",
              "}}\n",
              "\n",
              "                        })                };                });            </script>        </div>"
            ]
          },
          "metadata": {},
          "output_type": "display_data"
        }
      ],
      "source": [
        "import pandas as pd\n",
        "import plotly.graph_objects as go\n",
        "\n",
        "age_bins = [0, 10, 20, 30, 40, 50, 60, 70, 80, 90, 100]\n",
        "\n",
        "# Convert Interval objects to string representation\n",
        "datazoneA['Age Group'] = pd.cut(datazoneA['AGED'], bins=age_bins, right=False).astype(str)\n",
        "\n",
        "# Group data by age group and gender\n",
        "grouped_data = datazoneA.groupby(['Age Group', 'SEXE']).size().unstack(fill_value=0)\n",
        "\n",
        "# Extract data for plotting\n",
        "y_age = list(grouped_data.index)\n",
        "x_M = list(grouped_data[1])  # Male data\n",
        "x_F = [-count for count in grouped_data[2]]  # Female data with negative values for pyramid effect\n",
        "\n",
        "# Creating instance of the figure\n",
        "fig = go.Figure()\n",
        "\n",
        "# Adding Male data to the figure\n",
        "fig.add_trace(go.Bar(y=y_age, x=x_M, name='Male', orientation='h'))\n",
        "\n",
        "# Adding Female data to the figure\n",
        "fig.add_trace(go.Bar(y=y_age, x=x_F, name='Female', orientation='h'))\n",
        "\n",
        "# Updating the layout for our graph\n",
        "fig.update_layout(\n",
        "    title='Population Pyramid of Zone A France',\n",
        "    title_font_size=22,\n",
        "    barmode='relative',\n",
        "    bargap=0.0,\n",
        "    bargroupgap=0,\n",
        "    xaxis=dict(\n",
        "        tickvals=[-60000000, -40000000, -20000000, 0, 20000000, 40000000, 60000000],\n",
        "        ticktext=['6M', '4M', '2M', '0', '2M', '4M', '6M'],\n",
        "        title='Population in Millions',\n",
        "        title_font_size=14\n",
        "    )\n",
        ")\n",
        "\n",
        "fig.show()\n"
      ]
    },
    {
      "cell_type": "code",
      "execution_count": null,
      "id": "3185af67",
      "metadata": {
        "id": "3185af67",
        "outputId": "fb66bdee-9450-42f9-98c2-c3e987dcbfb3"
      },
      "outputs": [
        {
          "name": "stdout",
          "output_type": "stream",
          "text": [
            "Numerical Variables:\n",
            "REGION       int64\n",
            "AGED         int64\n",
            "AGER20       int64\n",
            "AGEREV       int64\n",
            "AGEREVQ      int64\n",
            "ANAI         int64\n",
            "CATPC        int64\n",
            "COUPLE       int64\n",
            "CS1          int64\n",
            "CS2          int64\n",
            "CS3          int64\n",
            "DEPT         int64\n",
            "EPCI         int64\n",
            "ETUD         int64\n",
            "IMMI         int64\n",
            "INAI         int64\n",
            "INAT         int64\n",
            "IPONDI     float64\n",
            "MOCO         int64\n",
            "MODV         int64\n",
            "NAIDT        int64\n",
            "NAT13        int64\n",
            "NATC         int64\n",
            "ORIDT        int64\n",
            "PNAI12       int64\n",
            "SEXE         int64\n",
            "TACT         int64\n",
            "TACTD16      int64\n",
            "UR           int64\n",
            "dtype: object\n",
            "\n",
            "Categorical Variables:\n",
            "NUMMR        object\n",
            "ACHLR        object\n",
            "AEMM         object\n",
            "AEMMR        object\n",
            "ANARR        object\n",
            "              ...  \n",
            "TYPMD        object\n",
            "TYPMR        object\n",
            "VOIT         object\n",
            "WC           object\n",
            "Age Group    object\n",
            "Length: 69, dtype: object\n"
          ]
        }
      ],
      "source": [
        "import pandas as pd\n",
        "\n",
        "# Display numerical variables\n",
        "numerical_variables = datazoneA.select_dtypes(include=['int64', 'float64'])\n",
        "print(\"Numerical Variables:\")\n",
        "print(numerical_variables.dtypes)\n",
        "\n",
        "# Display categorical variables\n",
        "categorical_variables = datazoneA.select_dtypes(include=['object'])\n",
        "print(\"\\nCategorical Variables:\")\n",
        "print(categorical_variables.dtypes)\n"
      ]
    },
    {
      "cell_type": "code",
      "execution_count": null,
      "id": "08dbb372",
      "metadata": {
        "id": "08dbb372"
      },
      "outputs": [],
      "source": [
        "var = [NUMF, STAT_CON, APAF, MOCO, MODV,  TYPFC, TYPMD, TYPMR, SFM, LIENF, LPRF, LPRM, MODV, INFAM,  SFM, COUPLE, NPERR, INAT, NAT49, NATN12, NAT13, NATC, IMMI, INAI, NATN49, DIPL_15, STAT ]"
      ]
    },
    {
      "cell_type": "code",
      "execution_count": null,
      "id": "0773de75",
      "metadata": {
        "id": "0773de75",
        "outputId": "1f42b9a5-45af-443c-a47e-f392df13d892"
      },
      "outputs": [
        {
          "name": "stdout",
          "output_type": "stream",
          "text": [
            "Numerical Variables:\n",
            "NUMF        float64\n",
            "STAT_CON    float64\n",
            "APAF        float64\n",
            "MOCO        float64\n",
            "MODV        float64\n",
            "TYPFC       float64\n",
            "TYPMD       float64\n",
            "TYPMR       float64\n",
            "SFM         float64\n",
            "LIENF       float64\n",
            "LPRF        float64\n",
            "LPRM        float64\n",
            "INFAM       float64\n",
            "COUPLE      float64\n",
            "NPERR       float64\n",
            "INAT        float64\n",
            "NAT49       float64\n",
            "NATN12      float64\n",
            "NAT13       float64\n",
            "NATC        float64\n",
            "IMMI        float64\n",
            "INAI        float64\n",
            "NATN49      float64\n",
            "DIPL_15     float64\n",
            "STAT        float64\n",
            "dtype: object\n",
            "\n",
            "Categorical Variables:\n",
            "Series([], dtype: object)\n"
          ]
        }
      ],
      "source": [
        "import pandas as pd\n",
        "\n",
        "# Assuming 'datazoneA' is your DataFrame\n",
        "# If you don't have a DataFrame, replace 'datazoneA' with the appropriate DataFrame name\n",
        "\n",
        "# List of variables\n",
        "var = [\"NUMF\", \"STAT_CON\", \"APAF\", \"MOCO\", \"MODV\", \"TYPFC\", \"TYPMD\", \"TYPMR\", \"SFM\", \"LIENF\", \"LPRF\", \"LPRM\", \"MODV\", \"INFAM\", \"SFM\", \"COUPLE\", \"NPERR\", \"INAT\", \"NAT49\", \"NATN12\", \"NAT13\", \"NATC\", \"IMMI\", \"INAI\", \"NATN49\", \"DIPL_15\", \"STAT\"]\n",
        "\n",
        "# Create a DataFrame with your variables\n",
        "data = pd.DataFrame({col: [] for col in var})\n",
        "\n",
        "# Display numerical variables\n",
        "numerical_variables = data.select_dtypes(include=['int64', 'float64'])\n",
        "print(\"Numerical Variables:\")\n",
        "print(numerical_variables.dtypes)\n",
        "\n",
        "# Display categorical variables\n",
        "categorical_variables = data.select_dtypes(include=['object'])\n",
        "print(\"\\nCategorical Variables:\")\n",
        "print(categorical_variables.dtypes)\n"
      ]
    },
    {
      "cell_type": "code",
      "execution_count": null,
      "id": "cb2e87b3",
      "metadata": {
        "id": "cb2e87b3"
      },
      "outputs": [],
      "source": []
    },
    {
      "cell_type": "code",
      "execution_count": null,
      "id": "54b86951",
      "metadata": {
        "id": "54b86951"
      },
      "outputs": [],
      "source": []
    },
    {
      "cell_type": "code",
      "execution_count": null,
      "id": "998e9f31",
      "metadata": {
        "id": "998e9f31"
      },
      "outputs": [],
      "source": []
    },
    {
      "cell_type": "code",
      "execution_count": null,
      "id": "f7e98014",
      "metadata": {
        "id": "f7e98014"
      },
      "outputs": [],
      "source": []
    },
    {
      "cell_type": "code",
      "execution_count": null,
      "id": "2cb2288a",
      "metadata": {
        "id": "2cb2288a"
      },
      "outputs": [],
      "source": []
    },
    {
      "cell_type": "code",
      "execution_count": null,
      "id": "dcba4294",
      "metadata": {
        "id": "dcba4294"
      },
      "outputs": [],
      "source": []
    },
    {
      "cell_type": "code",
      "execution_count": null,
      "id": "adc37b79",
      "metadata": {
        "id": "adc37b79"
      },
      "outputs": [],
      "source": []
    },
    {
      "cell_type": "code",
      "execution_count": null,
      "id": "cee5f3a9",
      "metadata": {
        "id": "cee5f3a9",
        "outputId": "cb1e662c-2288-4035-bfea-9448c00b84ac"
      },
      "outputs": [
        {
          "name": "stderr",
          "output_type": "stream",
          "text": [
            "C:\\Users\\abedelkader\\AppData\\Local\\Temp\\ipykernel_21904\\1169381517.py:7: DtypeWarning: Columns (1,2,3,4,11,12,13,15,18,21,24,39,40,48,49,54,55,56,70,71,77,80,83,84,89,91,92,93,95) have mixed types. Specify dtype option on import or set low_memory=False.\n",
            "  dataoriginal = pd.read_csv(csv_file_path, delimiter=\";\")\n"
          ]
        },
        {
          "data": {
            "text/html": [
              "<div>\n",
              "<style scoped>\n",
              "    .dataframe tbody tr th:only-of-type {\n",
              "        vertical-align: middle;\n",
              "    }\n",
              "\n",
              "    .dataframe tbody tr th {\n",
              "        vertical-align: top;\n",
              "    }\n",
              "\n",
              "    .dataframe thead th {\n",
              "        text-align: right;\n",
              "    }\n",
              "</style>\n",
              "<table border=\"1\" class=\"dataframe\">\n",
              "  <thead>\n",
              "    <tr style=\"text-align: right;\">\n",
              "      <th></th>\n",
              "      <th>REGION</th>\n",
              "      <th>NUMMR</th>\n",
              "      <th>ACHLR</th>\n",
              "      <th>AEMM</th>\n",
              "      <th>AEMMR</th>\n",
              "      <th>AGED</th>\n",
              "      <th>AGER20</th>\n",
              "      <th>AGEREV</th>\n",
              "      <th>AGEREVQ</th>\n",
              "      <th>ANAI</th>\n",
              "      <th>...</th>\n",
              "      <th>TP</th>\n",
              "      <th>TRANS</th>\n",
              "      <th>TYPC</th>\n",
              "      <th>TYPFC</th>\n",
              "      <th>TYPL</th>\n",
              "      <th>TYPMD</th>\n",
              "      <th>TYPMR</th>\n",
              "      <th>UR</th>\n",
              "      <th>VOIT</th>\n",
              "      <th>WC</th>\n",
              "    </tr>\n",
              "  </thead>\n",
              "  <tbody>\n",
              "    <tr>\n",
              "      <th>0</th>\n",
              "      <td>44</td>\n",
              "      <td>1</td>\n",
              "      <td>3</td>\n",
              "      <td>2008</td>\n",
              "      <td>9</td>\n",
              "      <td>58</td>\n",
              "      <td>64</td>\n",
              "      <td>57</td>\n",
              "      <td>55</td>\n",
              "      <td>1959</td>\n",
              "      <td>...</td>\n",
              "      <td>Z</td>\n",
              "      <td>Z</td>\n",
              "      <td>3</td>\n",
              "      <td>2</td>\n",
              "      <td>2</td>\n",
              "      <td>500</td>\n",
              "      <td>44</td>\n",
              "      <td>1</td>\n",
              "      <td>1</td>\n",
              "      <td>Z</td>\n",
              "    </tr>\n",
              "    <tr>\n",
              "      <th>1</th>\n",
              "      <td>44</td>\n",
              "      <td>1</td>\n",
              "      <td>3</td>\n",
              "      <td>2008</td>\n",
              "      <td>9</td>\n",
              "      <td>69</td>\n",
              "      <td>79</td>\n",
              "      <td>68</td>\n",
              "      <td>65</td>\n",
              "      <td>1948</td>\n",
              "      <td>...</td>\n",
              "      <td>Z</td>\n",
              "      <td>Z</td>\n",
              "      <td>3</td>\n",
              "      <td>2</td>\n",
              "      <td>2</td>\n",
              "      <td>500</td>\n",
              "      <td>44</td>\n",
              "      <td>1</td>\n",
              "      <td>1</td>\n",
              "      <td>Z</td>\n",
              "    </tr>\n",
              "    <tr>\n",
              "      <th>2</th>\n",
              "      <td>44</td>\n",
              "      <td>2</td>\n",
              "      <td>4</td>\n",
              "      <td>1977</td>\n",
              "      <td>6</td>\n",
              "      <td>70</td>\n",
              "      <td>79</td>\n",
              "      <td>69</td>\n",
              "      <td>65</td>\n",
              "      <td>1948</td>\n",
              "      <td>...</td>\n",
              "      <td>Z</td>\n",
              "      <td>Z</td>\n",
              "      <td>1</td>\n",
              "      <td>Z</td>\n",
              "      <td>1</td>\n",
              "      <td>22</td>\n",
              "      <td>12</td>\n",
              "      <td>0</td>\n",
              "      <td>1</td>\n",
              "      <td>Z</td>\n",
              "    </tr>\n",
              "    <tr>\n",
              "      <th>3</th>\n",
              "      <td>44</td>\n",
              "      <td>3</td>\n",
              "      <td>3</td>\n",
              "      <td>2012</td>\n",
              "      <td>9</td>\n",
              "      <td>30</td>\n",
              "      <td>29</td>\n",
              "      <td>29</td>\n",
              "      <td>25</td>\n",
              "      <td>1985</td>\n",
              "      <td>...</td>\n",
              "      <td>1</td>\n",
              "      <td>4</td>\n",
              "      <td>3</td>\n",
              "      <td>2</td>\n",
              "      <td>2</td>\n",
              "      <td>300</td>\n",
              "      <td>41</td>\n",
              "      <td>0</td>\n",
              "      <td>1</td>\n",
              "      <td>Z</td>\n",
              "    </tr>\n",
              "    <tr>\n",
              "      <th>4</th>\n",
              "      <td>44</td>\n",
              "      <td>3</td>\n",
              "      <td>3</td>\n",
              "      <td>2012</td>\n",
              "      <td>9</td>\n",
              "      <td>30</td>\n",
              "      <td>29</td>\n",
              "      <td>29</td>\n",
              "      <td>25</td>\n",
              "      <td>1985</td>\n",
              "      <td>...</td>\n",
              "      <td>1</td>\n",
              "      <td>4</td>\n",
              "      <td>3</td>\n",
              "      <td>2</td>\n",
              "      <td>2</td>\n",
              "      <td>300</td>\n",
              "      <td>41</td>\n",
              "      <td>0</td>\n",
              "      <td>1</td>\n",
              "      <td>Z</td>\n",
              "    </tr>\n",
              "    <tr>\n",
              "      <th>...</th>\n",
              "      <td>...</td>\n",
              "      <td>...</td>\n",
              "      <td>...</td>\n",
              "      <td>...</td>\n",
              "      <td>...</td>\n",
              "      <td>...</td>\n",
              "      <td>...</td>\n",
              "      <td>...</td>\n",
              "      <td>...</td>\n",
              "      <td>...</td>\n",
              "      <td>...</td>\n",
              "      <td>...</td>\n",
              "      <td>...</td>\n",
              "      <td>...</td>\n",
              "      <td>...</td>\n",
              "      <td>...</td>\n",
              "      <td>...</td>\n",
              "      <td>...</td>\n",
              "      <td>...</td>\n",
              "      <td>...</td>\n",
              "      <td>...</td>\n",
              "    </tr>\n",
              "    <tr>\n",
              "      <th>1474554</th>\n",
              "      <td>44</td>\n",
              "      <td>Z</td>\n",
              "      <td>Z</td>\n",
              "      <td>ZZZZ</td>\n",
              "      <td>Z</td>\n",
              "      <td>23</td>\n",
              "      <td>24</td>\n",
              "      <td>22</td>\n",
              "      <td>20</td>\n",
              "      <td>1993</td>\n",
              "      <td>...</td>\n",
              "      <td>Z</td>\n",
              "      <td>Z</td>\n",
              "      <td>Z</td>\n",
              "      <td>Z</td>\n",
              "      <td>Z</td>\n",
              "      <td>ZZZ</td>\n",
              "      <td>ZZ</td>\n",
              "      <td>0</td>\n",
              "      <td>Z</td>\n",
              "      <td>X</td>\n",
              "    </tr>\n",
              "    <tr>\n",
              "      <th>1474555</th>\n",
              "      <td>44</td>\n",
              "      <td>Z</td>\n",
              "      <td>Z</td>\n",
              "      <td>ZZZZ</td>\n",
              "      <td>Z</td>\n",
              "      <td>64</td>\n",
              "      <td>64</td>\n",
              "      <td>63</td>\n",
              "      <td>60</td>\n",
              "      <td>1952</td>\n",
              "      <td>...</td>\n",
              "      <td>Z</td>\n",
              "      <td>Z</td>\n",
              "      <td>Z</td>\n",
              "      <td>Z</td>\n",
              "      <td>Z</td>\n",
              "      <td>ZZZ</td>\n",
              "      <td>ZZ</td>\n",
              "      <td>0</td>\n",
              "      <td>Z</td>\n",
              "      <td>X</td>\n",
              "    </tr>\n",
              "    <tr>\n",
              "      <th>1474556</th>\n",
              "      <td>44</td>\n",
              "      <td>Z</td>\n",
              "      <td>Z</td>\n",
              "      <td>ZZZZ</td>\n",
              "      <td>Z</td>\n",
              "      <td>29</td>\n",
              "      <td>29</td>\n",
              "      <td>28</td>\n",
              "      <td>25</td>\n",
              "      <td>1987</td>\n",
              "      <td>...</td>\n",
              "      <td>Z</td>\n",
              "      <td>Z</td>\n",
              "      <td>Z</td>\n",
              "      <td>Z</td>\n",
              "      <td>Z</td>\n",
              "      <td>ZZZ</td>\n",
              "      <td>ZZ</td>\n",
              "      <td>0</td>\n",
              "      <td>Z</td>\n",
              "      <td>X</td>\n",
              "    </tr>\n",
              "    <tr>\n",
              "      <th>1474557</th>\n",
              "      <td>44</td>\n",
              "      <td>Z</td>\n",
              "      <td>Z</td>\n",
              "      <td>ZZZZ</td>\n",
              "      <td>Z</td>\n",
              "      <td>48</td>\n",
              "      <td>54</td>\n",
              "      <td>47</td>\n",
              "      <td>45</td>\n",
              "      <td>1968</td>\n",
              "      <td>...</td>\n",
              "      <td>Z</td>\n",
              "      <td>Z</td>\n",
              "      <td>Z</td>\n",
              "      <td>Z</td>\n",
              "      <td>Z</td>\n",
              "      <td>ZZZ</td>\n",
              "      <td>ZZ</td>\n",
              "      <td>0</td>\n",
              "      <td>Z</td>\n",
              "      <td>X</td>\n",
              "    </tr>\n",
              "    <tr>\n",
              "      <th>1474558</th>\n",
              "      <td>44</td>\n",
              "      <td>Z</td>\n",
              "      <td>Z</td>\n",
              "      <td>ZZZZ</td>\n",
              "      <td>Z</td>\n",
              "      <td>35</td>\n",
              "      <td>39</td>\n",
              "      <td>34</td>\n",
              "      <td>30</td>\n",
              "      <td>1981</td>\n",
              "      <td>...</td>\n",
              "      <td>Z</td>\n",
              "      <td>Z</td>\n",
              "      <td>Z</td>\n",
              "      <td>Z</td>\n",
              "      <td>Z</td>\n",
              "      <td>ZZZ</td>\n",
              "      <td>ZZ</td>\n",
              "      <td>0</td>\n",
              "      <td>Z</td>\n",
              "      <td>X</td>\n",
              "    </tr>\n",
              "  </tbody>\n",
              "</table>\n",
              "<p>1474559 rows × 97 columns</p>\n",
              "</div>"
            ],
            "text/plain": [
              "         REGION NUMMR ACHLR  AEMM AEMMR  AGED  AGER20  AGEREV  AGEREVQ  ANAI  \\\n",
              "0            44     1     3  2008     9    58      64      57       55  1959   \n",
              "1            44     1     3  2008     9    69      79      68       65  1948   \n",
              "2            44     2     4  1977     6    70      79      69       65  1948   \n",
              "3            44     3     3  2012     9    30      29      29       25  1985   \n",
              "4            44     3     3  2012     9    30      29      29       25  1985   \n",
              "...         ...   ...   ...   ...   ...   ...     ...     ...      ...   ...   \n",
              "1474554      44     Z     Z  ZZZZ     Z    23      24      22       20  1993   \n",
              "1474555      44     Z     Z  ZZZZ     Z    64      64      63       60  1952   \n",
              "1474556      44     Z     Z  ZZZZ     Z    29      29      28       25  1987   \n",
              "1474557      44     Z     Z  ZZZZ     Z    48      54      47       45  1968   \n",
              "1474558      44     Z     Z  ZZZZ     Z    35      39      34       30  1981   \n",
              "\n",
              "         ... TP TRANS TYPC TYPFC TYPL TYPMD TYPMR UR VOIT  WC  \n",
              "0        ...  Z     Z    3     2    2   500    44  1    1   Z  \n",
              "1        ...  Z     Z    3     2    2   500    44  1    1   Z  \n",
              "2        ...  Z     Z    1     Z    1    22    12  0    1   Z  \n",
              "3        ...  1     4    3     2    2   300    41  0    1   Z  \n",
              "4        ...  1     4    3     2    2   300    41  0    1   Z  \n",
              "...      ... ..   ...  ...   ...  ...   ...   ... ..  ...  ..  \n",
              "1474554  ...  Z     Z    Z     Z    Z   ZZZ    ZZ  0    Z   X  \n",
              "1474555  ...  Z     Z    Z     Z    Z   ZZZ    ZZ  0    Z   X  \n",
              "1474556  ...  Z     Z    Z     Z    Z   ZZZ    ZZ  0    Z   X  \n",
              "1474557  ...  Z     Z    Z     Z    Z   ZZZ    ZZ  0    Z   X  \n",
              "1474558  ...  Z     Z    Z     Z    Z   ZZZ    ZZ  0    Z   X  \n",
              "\n",
              "[1474559 rows x 97 columns]"
            ]
          },
          "execution_count": 10,
          "metadata": {},
          "output_type": "execute_result"
        }
      ],
      "source": [
        "import pandas as pd\n",
        "\n",
        "# Specify the path to your CSV file\n",
        "csv_file_path = \"GrandEst.csv\"\n",
        "\n",
        "# Read the CSV file into a Pandas DataFrame\n",
        "dataoriginal = pd.read_csv(csv_file_path, delimiter=\";\")\n",
        "\n",
        "dataoriginal"
      ]
    },
    {
      "cell_type": "code",
      "execution_count": null,
      "id": "fc96721c",
      "metadata": {
        "id": "fc96721c",
        "outputId": "7beee732-2491-4204-b345-3eec8d6d8c9d"
      },
      "outputs": [
        {
          "name": "stdout",
          "output_type": "stream",
          "text": [
            "Dataframes have the same column names.\n"
          ]
        }
      ],
      "source": [
        "# Assuming you have your dataframes in a list, let's call it df_list\n",
        "df_list = [datazoneA, datazoneB, datazoneC, datazoneD, datazoneE, dataoriginal]\n",
        "\n",
        "# Get the column names of the first dataframe\n",
        "first_df_column_names = set(df_list[0].columns)\n",
        "\n",
        "# Iterate through the rest of the dataframes and compare column names\n",
        "for df in df_list[1:]:\n",
        "    if set(df.columns) != first_df_column_names:\n",
        "        print(\"Dataframes do not have the same column names.\")\n",
        "        break\n",
        "else:\n",
        "    print(\"Dataframes have the same column names.\")\n"
      ]
    },
    {
      "cell_type": "code",
      "execution_count": null,
      "id": "b562a450",
      "metadata": {
        "id": "b562a450",
        "outputId": "4cfbbd68-1bba-43a1-aaa8-4b147f46b433"
      },
      "outputs": [
        {
          "name": "stdout",
          "output_type": "stream",
          "text": [
            "Number of rows in df1: 4315657\n",
            "Number of rows in df2: 3898453\n",
            "Number of rows in df3: 3341347\n",
            "Number of rows in df4: 3116443\n",
            "Number of rows in df5: 4754631\n",
            "Number of rows in df6: 1474559\n"
          ]
        }
      ],
      "source": [
        "import pandas as pd\n",
        "\n",
        "# Assuming you have a list of dataframes called all_dataframes\n",
        "all_dataframes =  [datazoneA, datazoneB, datazoneC, datazoneD, datazoneE, dataoriginal]\n",
        "\n",
        "# Create a dictionary to store the number of rows for each dataframe\n",
        "num_rows_dict = {}\n",
        "\n",
        "for i, df in enumerate(all_dataframes):\n",
        "    num_rows = df.shape[0]\n",
        "    num_rows_dict[f'df{i + 1}'] = num_rows\n",
        "\n",
        "# Print the number of rows for each dataframe\n",
        "for df_name, num_rows in num_rows_dict.items():\n",
        "    print(f\"Number of rows in {df_name}: {num_rows}\")\n"
      ]
    },
    {
      "cell_type": "code",
      "execution_count": null,
      "id": "f5472ba2",
      "metadata": {
        "id": "f5472ba2",
        "outputId": "2aaf9ac9-632e-4296-e9f2-f8d6bc598a10"
      },
      "outputs": [
        {
          "name": "stdout",
          "output_type": "stream",
          "text": [
            "Total number of rows for all dataframes: 20901090\n"
          ]
        }
      ],
      "source": [
        "# Assuming you have num_rows_dict containing the number of rows for each dataframe\n",
        "\n",
        "# Calculate the sum of the number of rows\n",
        "total_rows = sum(num_rows_dict.values())\n",
        "\n",
        "print(\"Total number of rows for all dataframes:\", total_rows)\n"
      ]
    },
    {
      "cell_type": "code",
      "execution_count": null,
      "id": "bd7812f8",
      "metadata": {
        "id": "bd7812f8"
      },
      "outputs": [],
      "source": []
    }
  ],
  "metadata": {
    "kernelspec": {
      "display_name": "Python 3",
      "name": "python3"
    },
    "language_info": {
      "codemirror_mode": {
        "name": "ipython",
        "version": 3
      },
      "file_extension": ".py",
      "mimetype": "text/x-python",
      "name": "python",
      "nbconvert_exporter": "python",
      "pygments_lexer": "ipython3",
      "version": "3.9.12"
    },
    "colab": {
      "provenance": [],
      "machine_shape": "hm",
      "include_colab_link": true
    }
  },
  "nbformat": 4,
  "nbformat_minor": 5
}